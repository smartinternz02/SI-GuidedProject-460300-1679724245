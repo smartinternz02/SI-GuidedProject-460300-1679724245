{
 "cells": [
  {
   "cell_type": "code",
   "execution_count": 1,
   "id": "0592181a",
   "metadata": {},
   "outputs": [],
   "source": [
    "from keras.preprocessing.image import ImageDataGenerator"
   ]
  },
  {
   "cell_type": "code",
   "execution_count": 3,
   "id": "c5fde37b",
   "metadata": {},
   "outputs": [],
   "source": [
    "train_datagen = ImageDataGenerator(rescale = 1./255, shear_range = 0.2, zoom_range = 0.2, horizontal_flip = True)\n",
    "test_datagen = ImageDataGenerator(rescale = 1./255)\n",
    "     "
   ]
  },
  {
   "cell_type": "code",
   "execution_count": 5,
   "id": "d87b55f5",
   "metadata": {},
   "outputs": [
    {
     "name": "stdout",
     "output_type": "stream",
     "text": [
      "Found 742 images belonging to 4 classes.\n",
      "Found 198 images belonging to 4 classes.\n"
     ]
    }
   ],
   "source": [
    "#Performing data augmentation to train data\n",
    "\n",
    "x_train = train_datagen.flow_from_directory('C:/dataset/train_set', target_size = (64,64), batch_size = 5, color_mode = 'rgb', class_mode = 'categorical')\n",
    "\n",
    "#performing data augmentation to test data\n",
    "\n",
    "x_test = test_datagen.flow_from_directory('C:/dataset/test_set', target_size = (64,64), batch_size = 5, color_mode = 'rgb', class_mode = 'categorical')\n"
   ]
  },
  {
   "cell_type": "code",
   "execution_count": 6,
   "id": "c48a23c6",
   "metadata": {},
   "outputs": [],
   "source": [
    "#importing neccessary libraries\n",
    "\n",
    "import numpy as np\n",
    "import tensorflow\n",
    "from tensorflow.keras.models import Sequential\n",
    "from tensorflow.keras.layers import Dense,Conv2D,MaxPooling2D,Flatten"
   ]
  },
  {
   "cell_type": "code",
   "execution_count": 7,
   "id": "7e464b3d",
   "metadata": {},
   "outputs": [],
   "source": [
    "# initialising the model and adding CNN layers\n",
    "\n",
    "model = Sequential()\n",
    "\n",
    "# First convolution layer and pooling\n",
    "model.add(Conv2D(32,(3,3),input_shape=(64,64,3),activation='relu'))\n",
    "model.add(MaxPooling2D(pool_size=(2,2)))\n",
    "\n",
    "#Second convolution layer and pooling\n",
    "model.add(Conv2D(32,(3,3),activation='relu'))\n",
    "model.add(MaxPooling2D(pool_size=(2,2)))\n",
    "\n",
    "#Flattening the layers\n",
    "model.add(Flatten())\n",
    "\n",
    "#Adding Dense Layers\n",
    "model.add(Dense(units=128,activation='relu'))\n",
    "model.add(Dense(units=4,activation='softmax'))"
   ]
  },
  {
   "cell_type": "code",
   "execution_count": 8,
   "id": "8b81563a",
   "metadata": {},
   "outputs": [
    {
     "name": "stdout",
     "output_type": "stream",
     "text": [
      "Model: \"sequential\"\n",
      "_________________________________________________________________\n",
      " Layer (type)                Output Shape              Param #   \n",
      "=================================================================\n",
      " conv2d (Conv2D)             (None, 62, 62, 32)        896       \n",
      "                                                                 \n",
      " max_pooling2d (MaxPooling2D  (None, 31, 31, 32)       0         \n",
      " )                                                               \n",
      "                                                                 \n",
      " conv2d_1 (Conv2D)           (None, 29, 29, 32)        9248      \n",
      "                                                                 \n",
      " max_pooling2d_1 (MaxPooling  (None, 14, 14, 32)       0         \n",
      " 2D)                                                             \n",
      "                                                                 \n",
      " flatten (Flatten)           (None, 6272)              0         \n",
      "                                                                 \n",
      " dense (Dense)               (None, 128)               802944    \n",
      "                                                                 \n",
      " dense_1 (Dense)             (None, 4)                 516       \n",
      "                                                                 \n",
      "=================================================================\n",
      "Total params: 813,604\n",
      "Trainable params: 813,604\n",
      "Non-trainable params: 0\n",
      "_________________________________________________________________\n"
     ]
    }
   ],
   "source": [
    "# Summary of our model\n",
    "\n",
    "model.summary()"
   ]
  },
  {
   "cell_type": "code",
   "execution_count": 9,
   "id": "759ec421",
   "metadata": {},
   "outputs": [],
   "source": [
    "# Compiling the model\n",
    "\n",
    "model.compile(optimizer='adam', loss='categorical_crossentropy', metrics=['accuracy'])"
   ]
  },
  {
   "cell_type": "code",
   "execution_count": 10,
   "id": "2912add7",
   "metadata": {},
   "outputs": [
    {
     "name": "stderr",
     "output_type": "stream",
     "text": [
      "C:\\Users\\vinay\\AppData\\Local\\Temp\\ipykernel_22100\\4225456588.py:3: UserWarning: `Model.fit_generator` is deprecated and will be removed in a future version. Please use `Model.fit`, which supports generators.\n",
      "  model.fit_generator(generator=x_train,steps_per_epoch=len(x_train),epochs=20,validation_data=x_test,validation_steps=len(x_test))\n"
     ]
    },
    {
     "name": "stdout",
     "output_type": "stream",
     "text": [
      "Epoch 1/20\n",
      "149/149 [==============================] - 48s 313ms/step - loss: 1.2336 - accuracy: 0.4097 - val_loss: 0.9279 - val_accuracy: 0.6212\n",
      "Epoch 2/20\n",
      "149/149 [==============================] - 26s 174ms/step - loss: 0.8573 - accuracy: 0.6415 - val_loss: 0.8326 - val_accuracy: 0.6616\n",
      "Epoch 3/20\n",
      "149/149 [==============================] - 25s 168ms/step - loss: 0.7257 - accuracy: 0.6995 - val_loss: 0.8659 - val_accuracy: 0.6364\n",
      "Epoch 4/20\n",
      "149/149 [==============================] - 25s 167ms/step - loss: 0.6497 - accuracy: 0.7358 - val_loss: 0.6714 - val_accuracy: 0.7475\n",
      "Epoch 5/20\n",
      "149/149 [==============================] - 25s 168ms/step - loss: 0.5782 - accuracy: 0.7615 - val_loss: 1.1081 - val_accuracy: 0.6162\n",
      "Epoch 6/20\n",
      "149/149 [==============================] - 25s 168ms/step - loss: 0.5795 - accuracy: 0.7695 - val_loss: 1.2885 - val_accuracy: 0.5404\n",
      "Epoch 7/20\n",
      "149/149 [==============================] - 25s 162ms/step - loss: 0.5374 - accuracy: 0.7978 - val_loss: 0.6454 - val_accuracy: 0.7677\n",
      "Epoch 8/20\n",
      "149/149 [==============================] - 25s 164ms/step - loss: 0.5525 - accuracy: 0.7925 - val_loss: 0.5971 - val_accuracy: 0.7677\n",
      "Epoch 9/20\n",
      "149/149 [==============================] - 25s 165ms/step - loss: 0.4525 - accuracy: 0.8302 - val_loss: 0.7067 - val_accuracy: 0.7576\n",
      "Epoch 10/20\n",
      "149/149 [==============================] - 25s 168ms/step - loss: 0.4477 - accuracy: 0.8288 - val_loss: 0.7766 - val_accuracy: 0.7424\n",
      "Epoch 11/20\n",
      "149/149 [==============================] - 25s 166ms/step - loss: 0.4136 - accuracy: 0.8477 - val_loss: 0.7853 - val_accuracy: 0.7525\n",
      "Epoch 12/20\n",
      "149/149 [==============================] - 25s 166ms/step - loss: 0.3511 - accuracy: 0.8625 - val_loss: 0.6465 - val_accuracy: 0.7879\n",
      "Epoch 13/20\n",
      "149/149 [==============================] - 24s 164ms/step - loss: 0.3830 - accuracy: 0.8504 - val_loss: 0.6549 - val_accuracy: 0.7576\n",
      "Epoch 14/20\n",
      "149/149 [==============================] - 24s 164ms/step - loss: 0.3224 - accuracy: 0.8787 - val_loss: 0.9682 - val_accuracy: 0.7071\n",
      "Epoch 15/20\n",
      "149/149 [==============================] - 25s 165ms/step - loss: 0.3125 - accuracy: 0.8760 - val_loss: 0.6924 - val_accuracy: 0.8030\n",
      "Epoch 16/20\n",
      "149/149 [==============================] - 25s 166ms/step - loss: 0.2569 - accuracy: 0.8989 - val_loss: 0.9423 - val_accuracy: 0.7778\n",
      "Epoch 17/20\n",
      "149/149 [==============================] - 24s 162ms/step - loss: 0.2682 - accuracy: 0.9003 - val_loss: 0.8919 - val_accuracy: 0.7778\n",
      "Epoch 18/20\n",
      "149/149 [==============================] - 24s 165ms/step - loss: 0.2232 - accuracy: 0.9191 - val_loss: 0.8128 - val_accuracy: 0.7929\n",
      "Epoch 19/20\n",
      "149/149 [==============================] - 24s 165ms/step - loss: 0.1871 - accuracy: 0.9286 - val_loss: 0.8845 - val_accuracy: 0.7576\n",
      "Epoch 20/20\n",
      "149/149 [==============================] - 24s 163ms/step - loss: 0.2398 - accuracy: 0.9218 - val_loss: 0.8909 - val_accuracy: 0.7980\n"
     ]
    },
    {
     "data": {
      "text/plain": [
       "<keras.callbacks.History at 0x2534a52faf0>"
      ]
     },
     "execution_count": 10,
     "metadata": {},
     "output_type": "execute_result"
    }
   ],
   "source": [
    "# Fitting the model\n",
    "\n",
    "model.fit_generator(generator=x_train,steps_per_epoch=len(x_train),epochs=20,validation_data=x_test,validation_steps=len(x_test))"
   ]
  },
  {
   "cell_type": "code",
   "execution_count": 12,
   "id": "26065e2d",
   "metadata": {},
   "outputs": [],
   "source": [
    " # Save the model\n",
    "\n",
    "model.save('disaster.h5')\n",
    "model_json = model.to_json()\n",
    "with open(\"model-bw.json\", \"w\") as json_file:\n",
    "  json_file.write(model_json)"
   ]
  },
  {
   "cell_type": "code",
   "execution_count": 13,
   "id": "f653e158",
   "metadata": {},
   "outputs": [],
   "source": [
    "# Load the saved model\n",
    "\n",
    "from tensorflow.keras.models import load_model\n",
    "from tensorflow.keras.preprocessing import image\n",
    "model = load_model('disaster.h5')"
   ]
  },
  {
   "cell_type": "code",
   "execution_count": 14,
   "id": "1be515a6",
   "metadata": {},
   "outputs": [
    {
     "data": {
      "text/plain": [
       "{'Cyclone': 0, 'Earthquake': 1, 'Flood': 2, 'Wildfire': 3}"
      ]
     },
     "execution_count": 14,
     "metadata": {},
     "output_type": "execute_result"
    }
   ],
   "source": [
    "x_train.class_indices"
   ]
  },
  {
   "cell_type": "code",
   "execution_count": 16,
   "id": "5a5cc4ad",
   "metadata": {},
   "outputs": [
    {
     "name": "stdout",
     "output_type": "stream",
     "text": [
      "1/1 [==============================] - 0s 213ms/step\n",
      "Flood\n"
     ]
    }
   ],
   "source": [
    "# taking image as input\n",
    "\n",
    "img = image.load_img('C:/dataset/test_set/Flood/1003.jpg',target_size=(64,64))\n",
    "x=image.img_to_array(img)\n",
    "x=np.expand_dims(x,axis=0)\n",
    "index=['Cyclone','Earthquake','Flood','Wildfire']\n",
    "y=np.argmax(model.predict(x),axis=1)\n",
    "print(index[int(y)])"
   ]
  },
  {
   "cell_type": "code",
   "execution_count": null,
   "id": "45b68ad7",
   "metadata": {},
   "outputs": [
    {
     "ename": "",
     "evalue": "",
     "output_type": "error",
     "traceback": [
      "\u001b[1;31mRunning cells with 'c:\\Users\\vinay\\AppData\\Local\\Programs\\Python\\Python310\\python.exe' requires the ipykernel package.\n",
      "\u001b[1;31mRun the following command to install 'ipykernel' into the Python environment. \n",
      "\u001b[1;31mCommand: 'c:/Users/vinay/AppData/Local/Programs/Python/Python310/python.exe -m pip install ipykernel -U --user --force-reinstall'"
     ]
    }
   ],
   "source": [
    "# input 2\n",
    "\n",
    "img = image.load_img('C:/dataset/test_set/Wildfire/1066.jpg',target_size=(64,64))\n",
    "x=image.img_to_array(img)\n",
    "x=np.expand_dims(x,axis=0)\n",
    "index=['Cyclone','Earthquake','Flood','Wildfire']\n",
    "y=np.argmax(model.predict(x),axis=1)\n",
    "print(index[int(y)])"
   ]
  },
  {
   "cell_type": "code",
   "execution_count": null,
   "id": "3496e553",
   "metadata": {},
   "outputs": [],
   "source": []
  },
  {
   "cell_type": "code",
   "execution_count": null,
   "id": "55c472aa",
   "metadata": {},
   "outputs": [],
   "source": []
  }
 ],
 "metadata": {
  "kernelspec": {
   "display_name": "Python 3 (ipykernel)",
   "language": "python",
   "name": "python3"
  },
  "language_info": {
   "codemirror_mode": {
    "name": "ipython",
    "version": 3
   },
   "file_extension": ".py",
   "mimetype": "text/x-python",
   "name": "python",
   "nbconvert_exporter": "python",
   "pygments_lexer": "ipython3",
   "version": "3.10.5"
  }
 },
 "nbformat": 4,
 "nbformat_minor": 5
}
